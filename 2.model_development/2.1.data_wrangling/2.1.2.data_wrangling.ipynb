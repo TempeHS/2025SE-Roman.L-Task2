{
 "cells": [
  {
   "cell_type": "markdown",
   "metadata": {},
   "source": [
    "[Home](../../README.md)\n",
    "\n",
    "### Seoul Bike Sharing\n",
    "\n",
    "**Dataset:** https://archive.ics.uci.edu/dataset/560/seoul+bike+sharing+demand\n",
    "\n",
    "We will wrangle the bike data set previewed in the last [Jupyter Notebook](2.model_development/2.1.data_wrangling/2.1.1.data_preview.ipynb).\n",
    "\n",
    "> None of these processes are destructive to the source CSV as long as you save the modified data to a new CSV."
   ]
  },
  {
   "cell_type": "markdown",
   "metadata": {},
   "source": [
    "#### Load the required dependencies"
   ]
  },
  {
   "cell_type": "code",
   "execution_count": 1,
   "metadata": {},
   "outputs": [],
   "source": [
    "# Import frameworks\n",
    "import pandas as pd\n",
    "from sklearn.preprocessing import MinMaxScaler"
   ]
  },
  {
   "cell_type": "markdown",
   "metadata": {},
   "source": [
    "#### Store the data as a local variable\n",
    "\n",
    "The data frame is a Pandas object that structures your tabular data into an appropriate format. It loads the complete data in memory so it is now ready for preprocessing. It integrates seamlessly with other data science and machine learning libraries in Python, such as NumPy, SciPy, scikit-learn, and Matplotlib. Additionaly, using a DataFrame makes our code more readble and maintainable."
   ]
  },
  {
   "cell_type": "code",
   "execution_count": 2,
   "metadata": {},
   "outputs": [],
   "source": [
    "data_frame = pd.read_csv(\"2.1.2.SeoulBikeData_Sample_Data.csv\")"
   ]
  },
  {
   "cell_type": "markdown",
   "metadata": {},
   "source": [
    "#### Dealing with null values\n",
    "\n",
    "Null values during data analysis can cause runtime errors and unexpected results. It is important to identify null values and deal with them appropriately before training a model.\n",
    "\n",
    "The `isnull().sum()` method call returns the null values in any column.\n",
    "\n",
    "- Null data was not captured due to the dataset coming from a reputable source: https://archive.ics.uci.edu\n",
    "\n",
    "    - Additionally, mentioned in the source description"
   ]
  },
  {
   "cell_type": "code",
   "execution_count": 3,
   "metadata": {},
   "outputs": [
    {
     "data": {
      "text/plain": [
       "Date              0\n",
       "Count             0\n",
       "Hour              0\n",
       "Temp              0\n",
       "Humidity          0\n",
       "WindSpeed         0\n",
       "Visibility        0\n",
       "DewPointTemp      0\n",
       "SolarRadiation    0\n",
       "Rainfall          0\n",
       "Snowfall          0\n",
       "Seasons           0\n",
       "Holiday           0\n",
       "FunctioningDay    0\n",
       "dtype: int64"
      ]
     },
     "execution_count": 3,
     "metadata": {},
     "output_type": "execute_result"
    }
   ],
   "source": [
    "data_frame.isnull().sum()"
   ]
  },
  {
   "cell_type": "markdown",
   "metadata": {},
   "source": [
    "* If we were to detect null values we could remove any row with a null value with a `dropna()` method call."
   ]
  },
  {
   "cell_type": "code",
   "execution_count": 4,
   "metadata": {},
   "outputs": [
    {
     "data": {
      "text/plain": [
       "Date              0\n",
       "Count             0\n",
       "Hour              0\n",
       "Temp              0\n",
       "Humidity          0\n",
       "WindSpeed         0\n",
       "Visibility        0\n",
       "DewPointTemp      0\n",
       "SolarRadiation    0\n",
       "Rainfall          0\n",
       "Snowfall          0\n",
       "Seasons           0\n",
       "Holiday           0\n",
       "FunctioningDay    0\n",
       "dtype: int64"
      ]
     },
     "execution_count": 4,
     "metadata": {},
     "output_type": "execute_result"
    }
   ],
   "source": [
    "data_frame = data_frame.dropna(subset=['Seasons'])\n",
    "data_frame.isnull().sum()"
   ]
  },
  {
   "cell_type": "markdown",
   "metadata": {},
   "source": [
    "#### Remove duplicates\n",
    "\n",
    "Duplicate data can have detrimental effects on your machine learning models and outcomes, such as reducing data diversity and representativeness, which can lead to overfitting or biased models.\n",
    "\n",
    "The `duplicated().sum()` method call returns the count of duplicate rows in the data frame.\n",
    "\n",
    "- No duplicates were detected"
   ]
  },
  {
   "cell_type": "code",
   "execution_count": 4,
   "metadata": {},
   "outputs": [
    {
     "data": {
      "text/plain": [
       "np.int64(0)"
      ]
     },
     "execution_count": 4,
     "metadata": {},
     "output_type": "execute_result"
    }
   ],
   "source": [
    "data_frame.duplicated().sum()"
   ]
  },
  {
   "cell_type": "markdown",
   "metadata": {},
   "source": [
    "* If we were to find duplicates we could use the drop_duplicates() method call, then stored back onto the data_frame variable removing the duplicates."
   ]
  },
  {
   "cell_type": "code",
   "execution_count": 20,
   "metadata": {},
   "outputs": [
    {
     "data": {
      "text/plain": [
       "np.int64(0)"
      ]
     },
     "execution_count": 20,
     "metadata": {},
     "output_type": "execute_result"
    }
   ],
   "source": [
    "data_frame = data_frame.drop_duplicates()\n",
    "data_frame.duplicated().sum()"
   ]
  },
  {
   "cell_type": "markdown",
   "metadata": {},
   "source": [
    "#### Replace data\n",
    "\n",
    "We can run a lambda function on a column to modify its values. For a simple example, let’s convert the Seasons to lowercase. To run a function over a complete column, we can use the apply method which iterates over each row and modifies the values.\n",
    "\n",
    "* Replaced upper cases for seasons for better access, **will later be overwritten by binary**"
   ]
  },
  {
   "cell_type": "code",
   "execution_count": 5,
   "metadata": {},
   "outputs": [
    {
     "data": {
      "text/plain": [
       "0    winter\n",
       "1    winter\n",
       "2    winter\n",
       "3    winter\n",
       "4    winter\n",
       "Name: Seasons, dtype: object"
      ]
     },
     "execution_count": 5,
     "metadata": {},
     "output_type": "execute_result"
    }
   ],
   "source": [
    "data_frame['Seasons'] = data_frame['Seasons'].apply(lambda x: x.lower())\n",
    "data_frame['Seasons'].head()"
   ]
  },
  {
   "cell_type": "markdown",
   "metadata": {},
   "source": [
    "We can check that there are no data entry errors by the `unique()` method call.\n",
    "\n",
    "-  No data entry errors were caught."
   ]
  },
  {
   "cell_type": "code",
   "execution_count": 6,
   "metadata": {},
   "outputs": [
    {
     "data": {
      "text/plain": [
       "array(['winter', 'spring', 'summer', 'autumn'], dtype=object)"
      ]
     },
     "execution_count": 6,
     "metadata": {},
     "output_type": "execute_result"
    }
   ],
   "source": [
    "data_frame['Seasons'].unique()"
   ]
  },
  {
   "cell_type": "code",
   "execution_count": 7,
   "metadata": {},
   "outputs": [
    {
     "data": {
      "text/plain": [
       "array(['winter', 'spring', 'summer', 'autumn'], dtype=object)"
      ]
     },
     "execution_count": 7,
     "metadata": {},
     "output_type": "execute_result"
    }
   ],
   "source": [
    "data_frame['Seasons'] = data_frame['Seasons'].apply(lambda season: 'winter' if season.lower() == 'winter' else ('summer' if season.lower() == 'summer' else season))\n",
    "data_frame['Seasons'].unique()"
   ]
  },
  {
   "cell_type": "markdown",
   "metadata": {},
   "source": [
    "#### Remove outliers\n",
    "\n",
    "Outliers can skew your analysis on numerical columns, and it is important to remove them. We can use the 25th and 75th quartile on numerical data, to get the inter-quartile range. This allows us to estimate an acceptable range, and we can then filter out any values outside this range. Mathematically, outliers are values occurring outside 1.5 times the interquartile range (IQR) from the first quartile (Q1) or third quartile (Q3)."
   ]
  },
  {
   "cell_type": "code",
   "execution_count": 8,
   "metadata": {},
   "outputs": [
    {
     "name": "stdout",
     "output_type": "stream",
     "text": [
      "count    8760.000000\n",
      "mean      704.602055\n",
      "std       644.997468\n",
      "min         0.000000\n",
      "25%       191.000000\n",
      "50%       504.500000\n",
      "75%      1065.250000\n",
      "max      3556.000000\n",
      "Name: Count, dtype: float64\n",
      "Outliers are a Count above 2376.625 or below -1120.375\n"
     ]
    }
   ],
   "source": [
    "# Get the inter-quartile range\n",
    "print(data_frame['Count'].describe())\n",
    "Q1 = data_frame['Count'].quantile(0.25)\n",
    "Q3 = data_frame['Count'].quantile(0.75)\n",
    "IQR = Q3 - Q1\n",
    "print(f'Outliers are a Count above {Q3 + IQR * 1.5} or below {Q1 - IQR * 1.5}')"
   ]
  },
  {
   "cell_type": "code",
   "execution_count": 9,
   "metadata": {},
   "outputs": [
    {
     "name": "stdout",
     "output_type": "stream",
     "text": [
      "count    8602.000000\n",
      "mean      667.971635\n",
      "std       589.552620\n",
      "min         0.000000\n",
      "25%       188.000000\n",
      "50%       485.000000\n",
      "75%      1030.750000\n",
      "max      2375.000000\n",
      "Name: Count, dtype: float64\n"
     ]
    }
   ],
   "source": [
    "data_frame = data_frame[(data_frame['Count'] >= Q1 - 1.5 * IQR) & (data_frame['Count'] <= Q3 + 1.5 * IQR)]\n",
    "print(data_frame['Count'].describe())"
   ]
  },
  {
   "cell_type": "markdown",
   "metadata": {},
   "source": [
    "#### Scaling features to a common range\n",
    "\n",
    "Scaling the features makes it easier for machine learning algorithms to find the optimal solution, as the different scales of the features do not influence them.\n",
    "\n",
    "* I left room for outliers with my `max_count = 2400`"
   ]
  },
  {
   "cell_type": "code",
   "execution_count": 8,
   "metadata": {},
   "outputs": [
    {
     "data": {
      "application/vnd.microsoft.datawrangler.viewer.v0+json": {
       "columns": [
        {
         "name": "index",
         "rawType": "object",
         "type": "string"
        },
        {
         "name": "Count",
         "rawType": "float64",
         "type": "float"
        },
        {
         "name": "Hour",
         "rawType": "float64",
         "type": "float"
        },
        {
         "name": "Temp",
         "rawType": "float64",
         "type": "float"
        },
        {
         "name": "Humidity",
         "rawType": "float64",
         "type": "float"
        },
        {
         "name": "WindSpeed",
         "rawType": "float64",
         "type": "float"
        },
        {
         "name": "Visibility",
         "rawType": "float64",
         "type": "float"
        },
        {
         "name": "DewPointTemp",
         "rawType": "float64",
         "type": "float"
        },
        {
         "name": "SolarRadiation",
         "rawType": "float64",
         "type": "float"
        },
        {
         "name": "Rainfall",
         "rawType": "float64",
         "type": "float"
        },
        {
         "name": "Snowfall",
         "rawType": "float64",
         "type": "float"
        }
       ],
       "conversionMethod": "pd.DataFrame",
       "ref": "76d6bc4d-bc39-4967-9f49-a9ef5fdd794c",
       "rows": [
        [
         "count",
         "8760.0",
         "8760.0",
         "8760.0",
         "8760.0",
         "8760.0",
         "8760.0",
         "8760.0",
         "8760.0",
         "8760.0",
         "8760.0"
        ],
        [
         "mean",
         "0.2935841894977169",
         "11.5",
         "12.882922374429223",
         "58.226255707762554",
         "1.7249086757990868",
         "1436.825799086758",
         "4.073812785388128",
         "0.5691107305936072",
         "0.14868721461187215",
         "0.07506849315068494"
        ],
        [
         "std",
         "0.2687489448913398",
         "6.922581688234342",
         "11.944825230027947",
         "20.36241330156561",
         "1.0362999934025559",
         "608.298711984019",
         "13.06036933814979",
         "0.8687462422391533",
         "1.1281929687321486",
         "0.4367461811249922"
        ],
        [
         "min",
         "0.0",
         "0.0",
         "-17.8",
         "0.0",
         "0.0",
         "27.0",
         "-30.6",
         "0.0",
         "0.0",
         "0.0"
        ],
        [
         "25%",
         "0.07958333333333334",
         "5.75",
         "3.5",
         "42.0",
         "0.9",
         "940.0",
         "-4.7",
         "0.0",
         "0.0",
         "0.0"
        ],
        [
         "50%",
         "0.21020833333333333",
         "11.5",
         "13.7",
         "57.0",
         "1.5",
         "1698.0",
         "5.1",
         "0.01",
         "0.0",
         "0.0"
        ],
        [
         "75%",
         "0.44385416666666666",
         "17.25",
         "22.5",
         "74.0",
         "2.3",
         "2000.0",
         "14.8",
         "0.93",
         "0.0",
         "0.0"
        ],
        [
         "max",
         "1.4816666666666667",
         "23.0",
         "39.4",
         "98.0",
         "7.4",
         "2000.0",
         "27.2",
         "3.52",
         "35.0",
         "8.8"
        ]
       ],
       "shape": {
        "columns": 10,
        "rows": 8
       }
      },
      "text/html": [
       "<div>\n",
       "<style scoped>\n",
       "    .dataframe tbody tr th:only-of-type {\n",
       "        vertical-align: middle;\n",
       "    }\n",
       "\n",
       "    .dataframe tbody tr th {\n",
       "        vertical-align: top;\n",
       "    }\n",
       "\n",
       "    .dataframe thead th {\n",
       "        text-align: right;\n",
       "    }\n",
       "</style>\n",
       "<table border=\"1\" class=\"dataframe\">\n",
       "  <thead>\n",
       "    <tr style=\"text-align: right;\">\n",
       "      <th></th>\n",
       "      <th>Count</th>\n",
       "      <th>Hour</th>\n",
       "      <th>Temp</th>\n",
       "      <th>Humidity</th>\n",
       "      <th>WindSpeed</th>\n",
       "      <th>Visibility</th>\n",
       "      <th>DewPointTemp</th>\n",
       "      <th>SolarRadiation</th>\n",
       "      <th>Rainfall</th>\n",
       "      <th>Snowfall</th>\n",
       "    </tr>\n",
       "  </thead>\n",
       "  <tbody>\n",
       "    <tr>\n",
       "      <th>count</th>\n",
       "      <td>8760.000000</td>\n",
       "      <td>8760.000000</td>\n",
       "      <td>8760.000000</td>\n",
       "      <td>8760.000000</td>\n",
       "      <td>8760.000000</td>\n",
       "      <td>8760.000000</td>\n",
       "      <td>8760.000000</td>\n",
       "      <td>8760.000000</td>\n",
       "      <td>8760.000000</td>\n",
       "      <td>8760.000000</td>\n",
       "    </tr>\n",
       "    <tr>\n",
       "      <th>mean</th>\n",
       "      <td>0.293584</td>\n",
       "      <td>11.500000</td>\n",
       "      <td>12.882922</td>\n",
       "      <td>58.226256</td>\n",
       "      <td>1.724909</td>\n",
       "      <td>1436.825799</td>\n",
       "      <td>4.073813</td>\n",
       "      <td>0.569111</td>\n",
       "      <td>0.148687</td>\n",
       "      <td>0.075068</td>\n",
       "    </tr>\n",
       "    <tr>\n",
       "      <th>std</th>\n",
       "      <td>0.268749</td>\n",
       "      <td>6.922582</td>\n",
       "      <td>11.944825</td>\n",
       "      <td>20.362413</td>\n",
       "      <td>1.036300</td>\n",
       "      <td>608.298712</td>\n",
       "      <td>13.060369</td>\n",
       "      <td>0.868746</td>\n",
       "      <td>1.128193</td>\n",
       "      <td>0.436746</td>\n",
       "    </tr>\n",
       "    <tr>\n",
       "      <th>min</th>\n",
       "      <td>0.000000</td>\n",
       "      <td>0.000000</td>\n",
       "      <td>-17.800000</td>\n",
       "      <td>0.000000</td>\n",
       "      <td>0.000000</td>\n",
       "      <td>27.000000</td>\n",
       "      <td>-30.600000</td>\n",
       "      <td>0.000000</td>\n",
       "      <td>0.000000</td>\n",
       "      <td>0.000000</td>\n",
       "    </tr>\n",
       "    <tr>\n",
       "      <th>25%</th>\n",
       "      <td>0.079583</td>\n",
       "      <td>5.750000</td>\n",
       "      <td>3.500000</td>\n",
       "      <td>42.000000</td>\n",
       "      <td>0.900000</td>\n",
       "      <td>940.000000</td>\n",
       "      <td>-4.700000</td>\n",
       "      <td>0.000000</td>\n",
       "      <td>0.000000</td>\n",
       "      <td>0.000000</td>\n",
       "    </tr>\n",
       "    <tr>\n",
       "      <th>50%</th>\n",
       "      <td>0.210208</td>\n",
       "      <td>11.500000</td>\n",
       "      <td>13.700000</td>\n",
       "      <td>57.000000</td>\n",
       "      <td>1.500000</td>\n",
       "      <td>1698.000000</td>\n",
       "      <td>5.100000</td>\n",
       "      <td>0.010000</td>\n",
       "      <td>0.000000</td>\n",
       "      <td>0.000000</td>\n",
       "    </tr>\n",
       "    <tr>\n",
       "      <th>75%</th>\n",
       "      <td>0.443854</td>\n",
       "      <td>17.250000</td>\n",
       "      <td>22.500000</td>\n",
       "      <td>74.000000</td>\n",
       "      <td>2.300000</td>\n",
       "      <td>2000.000000</td>\n",
       "      <td>14.800000</td>\n",
       "      <td>0.930000</td>\n",
       "      <td>0.000000</td>\n",
       "      <td>0.000000</td>\n",
       "    </tr>\n",
       "    <tr>\n",
       "      <th>max</th>\n",
       "      <td>1.481667</td>\n",
       "      <td>23.000000</td>\n",
       "      <td>39.400000</td>\n",
       "      <td>98.000000</td>\n",
       "      <td>7.400000</td>\n",
       "      <td>2000.000000</td>\n",
       "      <td>27.200000</td>\n",
       "      <td>3.520000</td>\n",
       "      <td>35.000000</td>\n",
       "      <td>8.800000</td>\n",
       "    </tr>\n",
       "  </tbody>\n",
       "</table>\n",
       "</div>"
      ],
      "text/plain": [
       "             Count         Hour         Temp     Humidity    WindSpeed  \\\n",
       "count  8760.000000  8760.000000  8760.000000  8760.000000  8760.000000   \n",
       "mean      0.293584    11.500000    12.882922    58.226256     1.724909   \n",
       "std       0.268749     6.922582    11.944825    20.362413     1.036300   \n",
       "min       0.000000     0.000000   -17.800000     0.000000     0.000000   \n",
       "25%       0.079583     5.750000     3.500000    42.000000     0.900000   \n",
       "50%       0.210208    11.500000    13.700000    57.000000     1.500000   \n",
       "75%       0.443854    17.250000    22.500000    74.000000     2.300000   \n",
       "max       1.481667    23.000000    39.400000    98.000000     7.400000   \n",
       "\n",
       "        Visibility  DewPointTemp  SolarRadiation     Rainfall     Snowfall  \n",
       "count  8760.000000   8760.000000     8760.000000  8760.000000  8760.000000  \n",
       "mean   1436.825799      4.073813        0.569111     0.148687     0.075068  \n",
       "std     608.298712     13.060369        0.868746     1.128193     0.436746  \n",
       "min      27.000000    -30.600000        0.000000     0.000000     0.000000  \n",
       "25%     940.000000     -4.700000        0.000000     0.000000     0.000000  \n",
       "50%    1698.000000      5.100000        0.010000     0.000000     0.000000  \n",
       "75%    2000.000000     14.800000        0.930000     0.000000     0.000000  \n",
       "max    2000.000000     27.200000        3.520000    35.000000     8.800000  "
      ]
     },
     "execution_count": 8,
     "metadata": {},
     "output_type": "execute_result"
    }
   ],
   "source": [
    "scale_feature = 'Count'\n",
    "\n",
    "#the minimum value with space for outliers\n",
    "MIN_COUNT = 0\n",
    "\n",
    "#the maximum value with space for outliers\n",
    "MAX_COUNT = 2400\n",
    "\n",
    "#scale features\n",
    "data_frame[scale_feature] = [(X - MIN_COUNT) / (MAX_COUNT - MIN_COUNT) for X in data_frame[scale_feature]]\n",
    "\n",
    "data_frame.describe()"
   ]
  },
  {
   "cell_type": "markdown",
   "metadata": {},
   "source": [
    "> [!important]\n",
    "> You need to save the calculations for each dataset you scale for scaling new values for prediction.\n",
    "> - Calculations were saved for scaling new values for prediction."
   ]
  },
  {
   "cell_type": "markdown",
   "metadata": {},
   "source": [
    "* I also counted how many 0 values there were, due to issues with linear regression (later evident)"
   ]
  },
  {
   "cell_type": "code",
   "execution_count": 11,
   "metadata": {},
   "outputs": [
    {
     "name": "stdout",
     "output_type": "stream",
     "text": [
      "Number of 0 values in each column:\n",
      "Date                 0\n",
      "Count              295\n",
      "Hour               365\n",
      "Temp                21\n",
      "Humidity            17\n",
      "WindSpeed           74\n",
      "Visibility           0\n",
      "DewPointTemp        59\n",
      "SolarRadiation    4294\n",
      "Rainfall          8075\n",
      "Snowfall          8159\n",
      "Seasons              0\n",
      "Holiday              0\n",
      "FunctioningDay       0\n",
      "dtype: int64\n"
     ]
    }
   ],
   "source": [
    "zero_counts = data_frame.isin([0]).sum()\n",
    "print(\"Number of 0 values in each column:\")\n",
    "print(zero_counts)"
   ]
  },
  {
   "cell_type": "markdown",
   "metadata": {},
   "source": [
    "* Rainfall, snowfall and solar radiation appear to have a lot, however these values are in decimals and have little effect\n",
    "\n",
    "* Having 300 Count values as 0 can possibly have issues. However, this may be maintanence days etc.\n",
    "\n",
    "    * Removing these values also decreased test scores by 0.3"
   ]
  },
  {
   "cell_type": "markdown",
   "metadata": {},
   "source": [
    "#### Save the wrangled data to CSV"
   ]
  },
  {
   "cell_type": "code",
   "execution_count": 9,
   "metadata": {},
   "outputs": [],
   "source": [
    "data_frame.to_csv('../2.2.feature_engineering/2.2.1.wrangled_data.csv', index=False)"
   ]
  }
 ],
 "metadata": {
  "kernelspec": {
   "display_name": "Python 3",
   "language": "python",
   "name": "python3"
  },
  "language_info": {
   "codemirror_mode": {
    "name": "ipython",
    "version": 3
   },
   "file_extension": ".py",
   "mimetype": "text/x-python",
   "name": "python",
   "nbconvert_exporter": "python",
   "pygments_lexer": "ipython3",
   "version": "3.12.1"
  }
 },
 "nbformat": 4,
 "nbformat_minor": 2
}
