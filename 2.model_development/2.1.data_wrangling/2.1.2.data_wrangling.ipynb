{
 "cells": [
  {
   "cell_type": "markdown",
   "metadata": {},
   "source": [
    "[Home](../../README.md)\n",
    "\n",
    "### Seoul Bike Sharing\n",
    "\n",
    "Dataset: https://archive.ics.uci.edu/dataset/560/seoul+bike+sharing+demand\n",
    "\n",
    "We will wrangle the bike data set previewed in the last Jupyter Notebook.\n",
    "\n",
    "> [!Note]\n",
    "> None of these processes are destructive to the source CSV as long as you save the modified data to a new CSV."
   ]
  },
  {
   "cell_type": "markdown",
   "metadata": {},
   "source": [
    "#### Load the required dependencies"
   ]
  },
  {
   "cell_type": "code",
   "execution_count": 2,
   "metadata": {},
   "outputs": [],
   "source": [
    "# Import frameworks\n",
    "import pandas as pd\n",
    "from sklearn.preprocessing import MinMaxScaler"
   ]
  },
  {
   "cell_type": "markdown",
   "metadata": {},
   "source": [
    "#### Store the data as a local variable\n",
    "\n",
    "The data frame is a Pandas object that structures your tabular data into an appropriate format. It loads the complete data in memory so it is now ready for preprocessing.\n",
    "\n",
    "* Pandas DataFrames integrate seamlessly with other data science and machine learning libraries in Python, such as NumPy, SciPy, scikit-learn, and Matplotlib. Additionaly, using a DataFrame makes your code more readble and maintainable."
   ]
  },
  {
   "cell_type": "code",
   "execution_count": 3,
   "metadata": {},
   "outputs": [],
   "source": [
    "data_frame = pd.read_csv(\"2.1.2.SeoulBikeData_Sample_Data.csv\")"
   ]
  },
  {
   "cell_type": "markdown",
   "metadata": {},
   "source": [
    "#### Dealing with null values\n",
    "\n",
    "Null values during data analysis can cause runtime errors and unexpected results. It is important to identify null values and deal with them appropriately before training a model.\n",
    "\n",
    "The `isnull().sum()` method call returns the null values in any column.\n",
    "\n",
    "- Null data was not captured due to the dataset coming from a reputable source: https://archive.ics.uci.edu\n",
    "    - Mentioned in source description"
   ]
  },
  {
   "cell_type": "code",
   "execution_count": 4,
   "metadata": {},
   "outputs": [
    {
     "data": {
      "text/plain": [
       "Date              0\n",
       "Count             0\n",
       "Hour              0\n",
       "Temp              0\n",
       "Humidity          0\n",
       "WindSpeed         0\n",
       "Visibility        0\n",
       "DewPointTemp      0\n",
       "SolarRadiation    0\n",
       "Rainfall          0\n",
       "Snowfall          0\n",
       "Seasons           0\n",
       "Holiday           0\n",
       "FunctioningDay    0\n",
       "dtype: int64"
      ]
     },
     "execution_count": 4,
     "metadata": {},
     "output_type": "execute_result"
    }
   ],
   "source": [
    "data_frame.isnull().sum()"
   ]
  },
  {
   "cell_type": "markdown",
   "metadata": {},
   "source": [
    "* If we were to detect null values we could remove any row with a null value with a `dropna()` method call."
   ]
  },
  {
   "cell_type": "code",
   "execution_count": 5,
   "metadata": {},
   "outputs": [
    {
     "data": {
      "text/plain": [
       "Date              0\n",
       "Count             0\n",
       "Hour              0\n",
       "Temp              0\n",
       "Humidity          0\n",
       "WindSpeed         0\n",
       "Visibility        0\n",
       "DewPointTemp      0\n",
       "SolarRadiation    0\n",
       "Rainfall          0\n",
       "Snowfall          0\n",
       "Seasons           0\n",
       "Holiday           0\n",
       "FunctioningDay    0\n",
       "dtype: int64"
      ]
     },
     "execution_count": 5,
     "metadata": {},
     "output_type": "execute_result"
    }
   ],
   "source": [
    "data_frame = data_frame.dropna(subset=['Seasons'])\n",
    "data_frame.isnull().sum()"
   ]
  },
  {
   "cell_type": "markdown",
   "metadata": {},
   "source": [
    "#### Remove duplicates\n",
    "\n",
    "Duplicate data can have detrimental effects on your machine learning models and outcomes, such as reducing data diversity and representativeness, which can lead to overfitting or biased models.\n",
    "\n",
    "The `duplicated().sum()` method call returns the count of duplicate rows in the data frame.\n",
    "\n",
    "- No duplicates were detected"
   ]
  },
  {
   "cell_type": "code",
   "execution_count": 6,
   "metadata": {},
   "outputs": [
    {
     "data": {
      "text/plain": [
       "np.int64(0)"
      ]
     },
     "execution_count": 6,
     "metadata": {},
     "output_type": "execute_result"
    }
   ],
   "source": [
    "data_frame.duplicated().sum()"
   ]
  },
  {
   "cell_type": "markdown",
   "metadata": {},
   "source": [
    "* If we were to find duplicates we could use the drop_duplicates() method call, then stored back onto the data_frame variable removing the duplicates."
   ]
  },
  {
   "cell_type": "code",
   "execution_count": null,
   "metadata": {},
   "outputs": [],
   "source": [
    "data_frame = data_frame.drop_duplicates()\n",
    "data_frame.duplicated().sum()"
   ]
  },
  {
   "cell_type": "markdown",
   "metadata": {},
   "source": [
    "#### Replace data\n",
    "\n",
    "We can run a lambda function on a column to modify its values. For a simple example, let’s convert the Sex to lowercase. To run a function over a complete column, we can use the apply method which iterates over each row and modifies the values.\n",
    "\n",
    "* Replaced upper cases for seasons for better access."
   ]
  },
  {
   "cell_type": "code",
   "execution_count": 7,
   "metadata": {},
   "outputs": [
    {
     "data": {
      "text/plain": [
       "0    winter\n",
       "1    winter\n",
       "2    winter\n",
       "3    winter\n",
       "4    winter\n",
       "Name: Seasons, dtype: object"
      ]
     },
     "execution_count": 7,
     "metadata": {},
     "output_type": "execute_result"
    }
   ],
   "source": [
    "data_frame['Seasons'] = data_frame['Seasons'].apply(lambda x: x.lower())\n",
    "data_frame['Seasons'].head()"
   ]
  },
  {
   "cell_type": "markdown",
   "metadata": {},
   "source": [
    "We can check that there are no data entry errors by the `unique()` method call.\n",
    "\n",
    "-  No data entry errors were caught."
   ]
  },
  {
   "cell_type": "code",
   "execution_count": 8,
   "metadata": {},
   "outputs": [
    {
     "data": {
      "text/plain": [
       "array(['winter', 'spring', 'summer', 'autumn'], dtype=object)"
      ]
     },
     "execution_count": 8,
     "metadata": {},
     "output_type": "execute_result"
    }
   ],
   "source": [
    "data_frame['Seasons'].unique()"
   ]
  },
  {
   "cell_type": "code",
   "execution_count": 9,
   "metadata": {},
   "outputs": [
    {
     "data": {
      "text/plain": [
       "array(['winter', 'spring', 'summer', 'autumn'], dtype=object)"
      ]
     },
     "execution_count": 9,
     "metadata": {},
     "output_type": "execute_result"
    }
   ],
   "source": [
    "data_frame['Seasons'] = data_frame['Seasons'].apply(lambda season: 'winter' if season.lower() == 'winter' else ('summer' if season.lower() == 'summer' else season))\n",
    "data_frame['Seasons'].unique()"
   ]
  },
  {
   "cell_type": "markdown",
   "metadata": {},
   "source": [
    "#### Remove outliers\n",
    "\n",
    "Outliers can skew your analysis on numerical columns, and it is important to remove them. We can use the 25th and 75th quartile on numerical data, to get the inter-quartile range. This allows us to estimate an acceptable range, and we can then filter out any values outside this range. Mathematically, outliers are values occurring outside 1.5 times the interquartile range (IQR) from the first quartile (Q1) or third quartile (Q3).\n",
    "\n",
    "- For my data set, bike counts were very skewed towards the lower end. To counteract this, I chose a range of ..."
   ]
  },
  {
   "cell_type": "code",
   "execution_count": 10,
   "metadata": {},
   "outputs": [
    {
     "name": "stdout",
     "output_type": "stream",
     "text": [
      "count    8760.000000\n",
      "mean      704.602055\n",
      "std       644.997468\n",
      "min         0.000000\n",
      "25%       191.000000\n",
      "50%       504.500000\n",
      "75%      1065.250000\n",
      "max      3556.000000\n",
      "Name: Count, dtype: float64\n",
      "Outliers are a Count above 2376.625 or below -1120.375\n"
     ]
    }
   ],
   "source": [
    "# Get the inter-quartile range on the salary column\n",
    "print(data_frame['Count'].describe())\n",
    "Q1 = data_frame['Count'].quantile(0.25)\n",
    "Q3 = data_frame['Count'].quantile(0.75)\n",
    "IQR = Q3 - Q1\n",
    "print(f'Outliers are a Count above {Q3 + IQR * 1.5} or below {Q1 - IQR * 1.5}')"
   ]
  },
  {
   "cell_type": "code",
   "execution_count": 11,
   "metadata": {},
   "outputs": [
    {
     "name": "stdout",
     "output_type": "stream",
     "text": [
      "count    8602.000000\n",
      "mean      667.971635\n",
      "std       589.552620\n",
      "min         0.000000\n",
      "25%       188.000000\n",
      "50%       485.000000\n",
      "75%      1030.750000\n",
      "max      2375.000000\n",
      "Name: Count, dtype: float64\n"
     ]
    }
   ],
   "source": [
    "# Filter salaries within the acceptable range\n",
    "data_frame = data_frame[(data_frame['Count'] >= Q1 - 1.5 * IQR) & (data_frame['Count'] <= Q3 + 1.5 * IQR)]\n",
    "print(data_frame['Count'].describe())"
   ]
  },
  {
   "cell_type": "markdown",
   "metadata": {},
   "source": [
    "#### Scaling features to a common range\n",
    "\n",
    "Scaling the features makes it easier for machine learning algorithms to find the optimal solution, as the different scales of the features do not influence them.\n",
    "\n",
    "* I ended up removing space for outliers, as my dataset was vast enough."
   ]
  },
  {
   "cell_type": "code",
   "execution_count": 12,
   "metadata": {},
   "outputs": [
    {
     "data": {
      "application/vnd.microsoft.datawrangler.viewer.v0+json": {
       "columns": [
        {
         "name": "index",
         "rawType": "object",
         "type": "string"
        },
        {
         "name": "Count",
         "rawType": "float64",
         "type": "float"
        },
        {
         "name": "Hour",
         "rawType": "float64",
         "type": "float"
        },
        {
         "name": "Temp",
         "rawType": "float64",
         "type": "float"
        },
        {
         "name": "Humidity",
         "rawType": "float64",
         "type": "float"
        },
        {
         "name": "WindSpeed",
         "rawType": "float64",
         "type": "float"
        },
        {
         "name": "Visibility",
         "rawType": "float64",
         "type": "float"
        },
        {
         "name": "DewPointTemp",
         "rawType": "float64",
         "type": "float"
        },
        {
         "name": "SolarRadiation",
         "rawType": "float64",
         "type": "float"
        },
        {
         "name": "Rainfall",
         "rawType": "float64",
         "type": "float"
        },
        {
         "name": "Snowfall",
         "rawType": "float64",
         "type": "float"
        }
       ],
       "conversionMethod": "pd.DataFrame",
       "ref": "850cd827-9010-408d-bcf1-ef604e4039ab",
       "rows": [
        [
         "count",
         "8602.0",
         "8602.0",
         "8602.0",
         "8602.0",
         "8602.0",
         "8602.0",
         "8602.0",
         "8602.0",
         "8602.0",
         "8602.0"
        ],
        [
         "mean",
         "0.2783215143765016",
         "11.377121599627994",
         "12.674889560567308",
         "58.37293652638921",
         "1.7161241571727504",
         "1431.9789583817717",
         "3.9166240409207163",
         "0.5687154150197629",
         "0.15140664961636827",
         "0.076447337828412"
        ],
        [
         "std",
         "0.24564692482525716",
         "6.920938218970832",
         "11.937910896025985",
         "20.45513299757629",
         "1.0383492831125176",
         "610.1750093639181",
         "13.102464299509979",
         "0.874272943927236",
         "1.1383276283679624",
         "0.44061981777526144"
        ],
        [
         "min",
         "0.0",
         "0.0",
         "-17.8",
         "0.0",
         "0.0",
         "27.0",
         "-30.6",
         "0.0",
         "0.0",
         "0.0"
        ],
        [
         "25%",
         "0.07833333333333334",
         "5.0",
         "3.2",
         "42.0",
         "0.9",
         "929.0",
         "-4.9",
         "0.0",
         "0.0",
         "0.0"
        ],
        [
         "50%",
         "0.20208333333333334",
         "11.0",
         "13.3",
         "57.0",
         "1.5",
         "1689.5",
         "4.8",
         "0.01",
         "0.0",
         "0.0"
        ],
        [
         "75%",
         "0.42947916666666663",
         "17.0",
         "22.2",
         "74.0",
         "2.3",
         "2000.0",
         "14.7",
         "0.93",
         "0.0",
         "0.0"
        ],
        [
         "max",
         "0.9895833333333334",
         "23.0",
         "39.4",
         "98.0",
         "7.4",
         "2000.0",
         "27.2",
         "3.52",
         "35.0",
         "8.8"
        ]
       ],
       "shape": {
        "columns": 10,
        "rows": 8
       }
      },
      "text/html": [
       "<div>\n",
       "<style scoped>\n",
       "    .dataframe tbody tr th:only-of-type {\n",
       "        vertical-align: middle;\n",
       "    }\n",
       "\n",
       "    .dataframe tbody tr th {\n",
       "        vertical-align: top;\n",
       "    }\n",
       "\n",
       "    .dataframe thead th {\n",
       "        text-align: right;\n",
       "    }\n",
       "</style>\n",
       "<table border=\"1\" class=\"dataframe\">\n",
       "  <thead>\n",
       "    <tr style=\"text-align: right;\">\n",
       "      <th></th>\n",
       "      <th>Count</th>\n",
       "      <th>Hour</th>\n",
       "      <th>Temp</th>\n",
       "      <th>Humidity</th>\n",
       "      <th>WindSpeed</th>\n",
       "      <th>Visibility</th>\n",
       "      <th>DewPointTemp</th>\n",
       "      <th>SolarRadiation</th>\n",
       "      <th>Rainfall</th>\n",
       "      <th>Snowfall</th>\n",
       "    </tr>\n",
       "  </thead>\n",
       "  <tbody>\n",
       "    <tr>\n",
       "      <th>count</th>\n",
       "      <td>8602.000000</td>\n",
       "      <td>8602.000000</td>\n",
       "      <td>8602.000000</td>\n",
       "      <td>8602.000000</td>\n",
       "      <td>8602.000000</td>\n",
       "      <td>8602.000000</td>\n",
       "      <td>8602.000000</td>\n",
       "      <td>8602.000000</td>\n",
       "      <td>8602.000000</td>\n",
       "      <td>8602.000000</td>\n",
       "    </tr>\n",
       "    <tr>\n",
       "      <th>mean</th>\n",
       "      <td>0.278322</td>\n",
       "      <td>11.377122</td>\n",
       "      <td>12.674890</td>\n",
       "      <td>58.372937</td>\n",
       "      <td>1.716124</td>\n",
       "      <td>1431.978958</td>\n",
       "      <td>3.916624</td>\n",
       "      <td>0.568715</td>\n",
       "      <td>0.151407</td>\n",
       "      <td>0.076447</td>\n",
       "    </tr>\n",
       "    <tr>\n",
       "      <th>std</th>\n",
       "      <td>0.245647</td>\n",
       "      <td>6.920938</td>\n",
       "      <td>11.937911</td>\n",
       "      <td>20.455133</td>\n",
       "      <td>1.038349</td>\n",
       "      <td>610.175009</td>\n",
       "      <td>13.102464</td>\n",
       "      <td>0.874273</td>\n",
       "      <td>1.138328</td>\n",
       "      <td>0.440620</td>\n",
       "    </tr>\n",
       "    <tr>\n",
       "      <th>min</th>\n",
       "      <td>0.000000</td>\n",
       "      <td>0.000000</td>\n",
       "      <td>-17.800000</td>\n",
       "      <td>0.000000</td>\n",
       "      <td>0.000000</td>\n",
       "      <td>27.000000</td>\n",
       "      <td>-30.600000</td>\n",
       "      <td>0.000000</td>\n",
       "      <td>0.000000</td>\n",
       "      <td>0.000000</td>\n",
       "    </tr>\n",
       "    <tr>\n",
       "      <th>25%</th>\n",
       "      <td>0.078333</td>\n",
       "      <td>5.000000</td>\n",
       "      <td>3.200000</td>\n",
       "      <td>42.000000</td>\n",
       "      <td>0.900000</td>\n",
       "      <td>929.000000</td>\n",
       "      <td>-4.900000</td>\n",
       "      <td>0.000000</td>\n",
       "      <td>0.000000</td>\n",
       "      <td>0.000000</td>\n",
       "    </tr>\n",
       "    <tr>\n",
       "      <th>50%</th>\n",
       "      <td>0.202083</td>\n",
       "      <td>11.000000</td>\n",
       "      <td>13.300000</td>\n",
       "      <td>57.000000</td>\n",
       "      <td>1.500000</td>\n",
       "      <td>1689.500000</td>\n",
       "      <td>4.800000</td>\n",
       "      <td>0.010000</td>\n",
       "      <td>0.000000</td>\n",
       "      <td>0.000000</td>\n",
       "    </tr>\n",
       "    <tr>\n",
       "      <th>75%</th>\n",
       "      <td>0.429479</td>\n",
       "      <td>17.000000</td>\n",
       "      <td>22.200000</td>\n",
       "      <td>74.000000</td>\n",
       "      <td>2.300000</td>\n",
       "      <td>2000.000000</td>\n",
       "      <td>14.700000</td>\n",
       "      <td>0.930000</td>\n",
       "      <td>0.000000</td>\n",
       "      <td>0.000000</td>\n",
       "    </tr>\n",
       "    <tr>\n",
       "      <th>max</th>\n",
       "      <td>0.989583</td>\n",
       "      <td>23.000000</td>\n",
       "      <td>39.400000</td>\n",
       "      <td>98.000000</td>\n",
       "      <td>7.400000</td>\n",
       "      <td>2000.000000</td>\n",
       "      <td>27.200000</td>\n",
       "      <td>3.520000</td>\n",
       "      <td>35.000000</td>\n",
       "      <td>8.800000</td>\n",
       "    </tr>\n",
       "  </tbody>\n",
       "</table>\n",
       "</div>"
      ],
      "text/plain": [
       "             Count         Hour         Temp     Humidity    WindSpeed  \\\n",
       "count  8602.000000  8602.000000  8602.000000  8602.000000  8602.000000   \n",
       "mean      0.278322    11.377122    12.674890    58.372937     1.716124   \n",
       "std       0.245647     6.920938    11.937911    20.455133     1.038349   \n",
       "min       0.000000     0.000000   -17.800000     0.000000     0.000000   \n",
       "25%       0.078333     5.000000     3.200000    42.000000     0.900000   \n",
       "50%       0.202083    11.000000    13.300000    57.000000     1.500000   \n",
       "75%       0.429479    17.000000    22.200000    74.000000     2.300000   \n",
       "max       0.989583    23.000000    39.400000    98.000000     7.400000   \n",
       "\n",
       "        Visibility  DewPointTemp  SolarRadiation     Rainfall     Snowfall  \n",
       "count  8602.000000   8602.000000     8602.000000  8602.000000  8602.000000  \n",
       "mean   1431.978958      3.916624        0.568715     0.151407     0.076447  \n",
       "std     610.175009     13.102464        0.874273     1.138328     0.440620  \n",
       "min      27.000000    -30.600000        0.000000     0.000000     0.000000  \n",
       "25%     929.000000     -4.900000        0.000000     0.000000     0.000000  \n",
       "50%    1689.500000      4.800000        0.010000     0.000000     0.000000  \n",
       "75%    2000.000000     14.700000        0.930000     0.000000     0.000000  \n",
       "max    2000.000000     27.200000        3.520000    35.000000     8.800000  "
      ]
     },
     "execution_count": 12,
     "metadata": {},
     "output_type": "execute_result"
    }
   ],
   "source": [
    "scale_feature = 'Count'\n",
    "\n",
    "#the minimum value with space for outliers\n",
    "MIN_COUNT = 0\n",
    "\n",
    "#the maximum value with space for outliers\n",
    "MAX_COUNT = 2400\n",
    "\n",
    "#scale features\n",
    "data_frame[scale_feature] = [(X - MIN_COUNT) / (MAX_COUNT - MIN_COUNT) for X in data_frame[scale_feature]]\n",
    "\n",
    "data_frame.describe()"
   ]
  },
  {
   "cell_type": "markdown",
   "metadata": {},
   "source": [
    "> [!important]\n",
    "> You need to save the calculations for each dataset you scale for scaling new values for prediction.\n",
    "> - Calculations were saved for scaling new values for prediction."
   ]
  },
  {
   "cell_type": "markdown",
   "metadata": {},
   "source": [
    "#### Save the wrangled data to CSV"
   ]
  },
  {
   "cell_type": "code",
   "execution_count": 13,
   "metadata": {},
   "outputs": [],
   "source": [
    "data_frame.to_csv('../2.2.feature_engineering/2.2.1.wrangled_data.csv', index=False)"
   ]
  }
 ],
 "metadata": {
  "kernelspec": {
   "display_name": "Python 3",
   "language": "python",
   "name": "python3"
  },
  "language_info": {
   "codemirror_mode": {
    "name": "ipython",
    "version": 3
   },
   "file_extension": ".py",
   "mimetype": "text/x-python",
   "name": "python",
   "nbconvert_exporter": "python",
   "pygments_lexer": "ipython3",
   "version": "3.12.1"
  }
 },
 "nbformat": 4,
 "nbformat_minor": 2
}
