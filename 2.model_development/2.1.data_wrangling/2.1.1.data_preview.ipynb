{
 "cells": [
  {
   "cell_type": "markdown",
   "metadata": {},
   "source": [
    "[Home](../../README.md)\n",
    "\n",
    "### Data Preprocessing\n",
    "\n",
    "This Jupyter Notebook demonstrates different processes you can apply to your data to better understand it before data wrangling. For this demonstration we will use relatively a complex real dataset that compares health measures with the speed of progress of type 2 adult onset diabetes."
   ]
  },
  {
   "cell_type": "markdown",
   "metadata": {},
   "source": [
    "#### Load the required dependencies\n",
    "\n",
    "Load the two required dependencies:\n",
    "\n",
    "- [Pandas](https://pandas.pydata.org/) is library for data analysis and manipulation.\n",
    "- [Matplotlib](https://matplotlib.org) a comprehensive library for creating static, animated, and interactive visualizations in Python. A customised stylesheet for the visualisations is also applied."
   ]
  },
  {
   "cell_type": "code",
   "execution_count": 1,
   "metadata": {},
   "outputs": [],
   "source": [
    "import numpy as np\n",
    "import pandas as pd\n",
    "import matplotlib.pyplot as plt\n",
    "plt.style.use('../../style_Matplotlib_charts.mplstyle')"
   ]
  },
  {
   "cell_type": "markdown",
   "metadata": {},
   "source": [
    "####  Store the data as a local variable\n",
    "\n",
    "The data frame is a Pandas object that structures your tabular data into an appropriate format. It loads the complete data in memory so it is now ready for preprocessing."
   ]
  },
  {
   "cell_type": "code",
   "execution_count": 2,
   "metadata": {},
   "outputs": [],
   "source": [
    "data_frame = pd.read_csv(\"2.1.2.SeoulBikeData_Sample_Data.csv\")"
   ]
  },
  {
   "cell_type": "markdown",
   "metadata": {},
   "source": [
    "#### Data Snapshot\n",
    "\n",
    "It is important to get a high-level look at your dataset to understand what you are working with. Printing the complete data might be impossible for large-scale datasets where the rows can be in thousands or even millions.\n",
    "\n",
    "You can use the `head()` and `tail()` method call to inspect the first and last 5 rows of your dataset."
   ]
  },
  {
   "cell_type": "code",
   "execution_count": 3,
   "metadata": {},
   "outputs": [
    {
     "data": {
      "application/vnd.microsoft.datawrangler.viewer.v0+json": {
       "columns": [
        {
         "name": "index",
         "rawType": "int64",
         "type": "integer"
        },
        {
         "name": "Date",
         "rawType": "object",
         "type": "string"
        },
        {
         "name": "Count",
         "rawType": "int64",
         "type": "integer"
        },
        {
         "name": "Hour",
         "rawType": "int64",
         "type": "integer"
        },
        {
         "name": "Temp",
         "rawType": "float64",
         "type": "float"
        },
        {
         "name": "Humidity",
         "rawType": "int64",
         "type": "integer"
        },
        {
         "name": "WindSpeed",
         "rawType": "float64",
         "type": "float"
        },
        {
         "name": "Visibility",
         "rawType": "int64",
         "type": "integer"
        },
        {
         "name": "DewPointTemp",
         "rawType": "float64",
         "type": "float"
        },
        {
         "name": "Solar Radiation",
         "rawType": "float64",
         "type": "float"
        },
        {
         "name": "Rainfall",
         "rawType": "float64",
         "type": "float"
        },
        {
         "name": "Snowfall",
         "rawType": "float64",
         "type": "float"
        },
        {
         "name": "Seasons",
         "rawType": "object",
         "type": "string"
        },
        {
         "name": "Holiday",
         "rawType": "object",
         "type": "string"
        },
        {
         "name": "Functioning Day",
         "rawType": "object",
         "type": "string"
        }
       ],
       "conversionMethod": "pd.DataFrame",
       "ref": "91bea5e3-55eb-4976-ae7e-e5b4da7503fc",
       "rows": [
        [
         "0",
         "01/12/2017",
         "254",
         "0",
         "-5.2",
         "37",
         "2.2",
         "2000",
         "-17.6",
         "0.0",
         "0.0",
         "0.0",
         "Winter",
         "No Holiday",
         "Yes"
        ],
        [
         "1",
         "01/12/2017",
         "204",
         "1",
         "-5.5",
         "38",
         "0.8",
         "2000",
         "-17.6",
         "0.0",
         "0.0",
         "0.0",
         "Winter",
         "No Holiday",
         "Yes"
        ],
        [
         "2",
         "01/12/2017",
         "173",
         "2",
         "-6.0",
         "39",
         "1.0",
         "2000",
         "-17.7",
         "0.0",
         "0.0",
         "0.0",
         "Winter",
         "No Holiday",
         "Yes"
        ],
        [
         "3",
         "01/12/2017",
         "107",
         "3",
         "-6.2",
         "40",
         "0.9",
         "2000",
         "-17.6",
         "0.0",
         "0.0",
         "0.0",
         "Winter",
         "No Holiday",
         "Yes"
        ],
        [
         "4",
         "01/12/2017",
         "78",
         "4",
         "-6.0",
         "36",
         "2.3",
         "2000",
         "-18.6",
         "0.0",
         "0.0",
         "0.0",
         "Winter",
         "No Holiday",
         "Yes"
        ]
       ],
       "shape": {
        "columns": 14,
        "rows": 5
       }
      },
      "text/html": [
       "<div>\n",
       "<style scoped>\n",
       "    .dataframe tbody tr th:only-of-type {\n",
       "        vertical-align: middle;\n",
       "    }\n",
       "\n",
       "    .dataframe tbody tr th {\n",
       "        vertical-align: top;\n",
       "    }\n",
       "\n",
       "    .dataframe thead th {\n",
       "        text-align: right;\n",
       "    }\n",
       "</style>\n",
       "<table border=\"1\" class=\"dataframe\">\n",
       "  <thead>\n",
       "    <tr style=\"text-align: right;\">\n",
       "      <th></th>\n",
       "      <th>Date</th>\n",
       "      <th>Count</th>\n",
       "      <th>Hour</th>\n",
       "      <th>Temp</th>\n",
       "      <th>Humidity</th>\n",
       "      <th>WindSpeed</th>\n",
       "      <th>Visibility</th>\n",
       "      <th>DewPointTemp</th>\n",
       "      <th>Solar Radiation</th>\n",
       "      <th>Rainfall</th>\n",
       "      <th>Snowfall</th>\n",
       "      <th>Seasons</th>\n",
       "      <th>Holiday</th>\n",
       "      <th>Functioning Day</th>\n",
       "    </tr>\n",
       "  </thead>\n",
       "  <tbody>\n",
       "    <tr>\n",
       "      <th>0</th>\n",
       "      <td>01/12/2017</td>\n",
       "      <td>254</td>\n",
       "      <td>0</td>\n",
       "      <td>-5.2</td>\n",
       "      <td>37</td>\n",
       "      <td>2.2</td>\n",
       "      <td>2000</td>\n",
       "      <td>-17.6</td>\n",
       "      <td>0.0</td>\n",
       "      <td>0.0</td>\n",
       "      <td>0.0</td>\n",
       "      <td>Winter</td>\n",
       "      <td>No Holiday</td>\n",
       "      <td>Yes</td>\n",
       "    </tr>\n",
       "    <tr>\n",
       "      <th>1</th>\n",
       "      <td>01/12/2017</td>\n",
       "      <td>204</td>\n",
       "      <td>1</td>\n",
       "      <td>-5.5</td>\n",
       "      <td>38</td>\n",
       "      <td>0.8</td>\n",
       "      <td>2000</td>\n",
       "      <td>-17.6</td>\n",
       "      <td>0.0</td>\n",
       "      <td>0.0</td>\n",
       "      <td>0.0</td>\n",
       "      <td>Winter</td>\n",
       "      <td>No Holiday</td>\n",
       "      <td>Yes</td>\n",
       "    </tr>\n",
       "    <tr>\n",
       "      <th>2</th>\n",
       "      <td>01/12/2017</td>\n",
       "      <td>173</td>\n",
       "      <td>2</td>\n",
       "      <td>-6.0</td>\n",
       "      <td>39</td>\n",
       "      <td>1.0</td>\n",
       "      <td>2000</td>\n",
       "      <td>-17.7</td>\n",
       "      <td>0.0</td>\n",
       "      <td>0.0</td>\n",
       "      <td>0.0</td>\n",
       "      <td>Winter</td>\n",
       "      <td>No Holiday</td>\n",
       "      <td>Yes</td>\n",
       "    </tr>\n",
       "    <tr>\n",
       "      <th>3</th>\n",
       "      <td>01/12/2017</td>\n",
       "      <td>107</td>\n",
       "      <td>3</td>\n",
       "      <td>-6.2</td>\n",
       "      <td>40</td>\n",
       "      <td>0.9</td>\n",
       "      <td>2000</td>\n",
       "      <td>-17.6</td>\n",
       "      <td>0.0</td>\n",
       "      <td>0.0</td>\n",
       "      <td>0.0</td>\n",
       "      <td>Winter</td>\n",
       "      <td>No Holiday</td>\n",
       "      <td>Yes</td>\n",
       "    </tr>\n",
       "    <tr>\n",
       "      <th>4</th>\n",
       "      <td>01/12/2017</td>\n",
       "      <td>78</td>\n",
       "      <td>4</td>\n",
       "      <td>-6.0</td>\n",
       "      <td>36</td>\n",
       "      <td>2.3</td>\n",
       "      <td>2000</td>\n",
       "      <td>-18.6</td>\n",
       "      <td>0.0</td>\n",
       "      <td>0.0</td>\n",
       "      <td>0.0</td>\n",
       "      <td>Winter</td>\n",
       "      <td>No Holiday</td>\n",
       "      <td>Yes</td>\n",
       "    </tr>\n",
       "  </tbody>\n",
       "</table>\n",
       "</div>"
      ],
      "text/plain": [
       "         Date  Count  Hour  Temp  Humidity  WindSpeed  Visibility  \\\n",
       "0  01/12/2017    254     0  -5.2        37        2.2        2000   \n",
       "1  01/12/2017    204     1  -5.5        38        0.8        2000   \n",
       "2  01/12/2017    173     2  -6.0        39        1.0        2000   \n",
       "3  01/12/2017    107     3  -6.2        40        0.9        2000   \n",
       "4  01/12/2017     78     4  -6.0        36        2.3        2000   \n",
       "\n",
       "   DewPointTemp  Solar Radiation  Rainfall  Snowfall Seasons     Holiday  \\\n",
       "0         -17.6              0.0       0.0       0.0  Winter  No Holiday   \n",
       "1         -17.6              0.0       0.0       0.0  Winter  No Holiday   \n",
       "2         -17.7              0.0       0.0       0.0  Winter  No Holiday   \n",
       "3         -17.6              0.0       0.0       0.0  Winter  No Holiday   \n",
       "4         -18.6              0.0       0.0       0.0  Winter  No Holiday   \n",
       "\n",
       "  Functioning Day  \n",
       "0             Yes  \n",
       "1             Yes  \n",
       "2             Yes  \n",
       "3             Yes  \n",
       "4             Yes  "
      ]
     },
     "execution_count": 3,
     "metadata": {},
     "output_type": "execute_result"
    }
   ],
   "source": [
    "# Target = A measure of bikes required depending on conditions\n",
    "data_frame.head()"
   ]
  },
  {
   "cell_type": "markdown",
   "metadata": {},
   "source": [
    "####  Data Summary\n",
    " \n",
    "The `info()` method call prints a summary of each column, giving you more information about the specific data types, total number of rows, null values and memory usage."
   ]
  },
  {
   "cell_type": "code",
   "execution_count": 4,
   "metadata": {},
   "outputs": [
    {
     "name": "stdout",
     "output_type": "stream",
     "text": [
      "<class 'pandas.core.frame.DataFrame'>\n",
      "RangeIndex: 8760 entries, 0 to 8759\n",
      "Data columns (total 14 columns):\n",
      " #   Column           Non-Null Count  Dtype  \n",
      "---  ------           --------------  -----  \n",
      " 0   Date             8760 non-null   object \n",
      " 1   Count            8760 non-null   int64  \n",
      " 2   Hour             8760 non-null   int64  \n",
      " 3   Temp             8760 non-null   float64\n",
      " 4   Humidity         8760 non-null   int64  \n",
      " 5   WindSpeed        8760 non-null   float64\n",
      " 6   Visibility       8760 non-null   int64  \n",
      " 7   DewPointTemp     8760 non-null   float64\n",
      " 8   Solar Radiation  8760 non-null   float64\n",
      " 9   Rainfall         8760 non-null   float64\n",
      " 10  Snowfall         8760 non-null   float64\n",
      " 11  Seasons          8760 non-null   object \n",
      " 12  Holiday          8760 non-null   object \n",
      " 13  Functioning Day  8760 non-null   object \n",
      "dtypes: float64(6), int64(4), object(4)\n",
      "memory usage: 958.3+ KB\n"
     ]
    }
   ],
   "source": [
    "data_frame.info()"
   ]
  },
  {
   "cell_type": "markdown",
   "metadata": {},
   "source": [
    "#### Statistics For Numerical Columns\n",
    " \n",
    "The `describe()` method call provides basic statistical knowledge like the mean and spread of the data."
   ]
  },
  {
   "cell_type": "code",
   "execution_count": 5,
   "metadata": {},
   "outputs": [
    {
     "data": {
      "application/vnd.microsoft.datawrangler.viewer.v0+json": {
       "columns": [
        {
         "name": "index",
         "rawType": "object",
         "type": "string"
        },
        {
         "name": "Count",
         "rawType": "float64",
         "type": "float"
        },
        {
         "name": "Hour",
         "rawType": "float64",
         "type": "float"
        },
        {
         "name": "Temp",
         "rawType": "float64",
         "type": "float"
        },
        {
         "name": "Humidity",
         "rawType": "float64",
         "type": "float"
        },
        {
         "name": "WindSpeed",
         "rawType": "float64",
         "type": "float"
        },
        {
         "name": "Visibility",
         "rawType": "float64",
         "type": "float"
        },
        {
         "name": "DewPointTemp",
         "rawType": "float64",
         "type": "float"
        },
        {
         "name": "Solar Radiation",
         "rawType": "float64",
         "type": "float"
        },
        {
         "name": "Rainfall",
         "rawType": "float64",
         "type": "float"
        },
        {
         "name": "Snowfall",
         "rawType": "float64",
         "type": "float"
        }
       ],
       "conversionMethod": "pd.DataFrame",
       "ref": "cb24ca7f-31dc-4b80-8fcc-b8c1cd14e327",
       "rows": [
        [
         "count",
         "8760.0",
         "8760.0",
         "8760.0",
         "8760.0",
         "8760.0",
         "8760.0",
         "8760.0",
         "8760.0",
         "8760.0",
         "8760.0"
        ],
        [
         "mean",
         "704.6020547945205",
         "11.5",
         "12.882922374429223",
         "58.226255707762554",
         "1.7249086757990868",
         "1436.825799086758",
         "4.073812785388128",
         "0.5691107305936072",
         "0.14868721461187215",
         "0.07506849315068494"
        ],
        [
         "std",
         "644.9974677392156",
         "6.922581688234342",
         "11.944825230027947",
         "20.36241330156561",
         "1.0362999934025559",
         "608.298711984019",
         "13.06036933814979",
         "0.8687462422391533",
         "1.1281929687321486",
         "0.4367461811249922"
        ],
        [
         "min",
         "0.0",
         "0.0",
         "-17.8",
         "0.0",
         "0.0",
         "27.0",
         "-30.6",
         "0.0",
         "0.0",
         "0.0"
        ],
        [
         "25%",
         "191.0",
         "5.75",
         "3.5",
         "42.0",
         "0.9",
         "940.0",
         "-4.7",
         "0.0",
         "0.0",
         "0.0"
        ],
        [
         "50%",
         "504.5",
         "11.5",
         "13.7",
         "57.0",
         "1.5",
         "1698.0",
         "5.1",
         "0.01",
         "0.0",
         "0.0"
        ],
        [
         "75%",
         "1065.25",
         "17.25",
         "22.5",
         "74.0",
         "2.3",
         "2000.0",
         "14.8",
         "0.93",
         "0.0",
         "0.0"
        ],
        [
         "max",
         "3556.0",
         "23.0",
         "39.4",
         "98.0",
         "7.4",
         "2000.0",
         "27.2",
         "3.52",
         "35.0",
         "8.8"
        ]
       ],
       "shape": {
        "columns": 10,
        "rows": 8
       }
      },
      "text/html": [
       "<div>\n",
       "<style scoped>\n",
       "    .dataframe tbody tr th:only-of-type {\n",
       "        vertical-align: middle;\n",
       "    }\n",
       "\n",
       "    .dataframe tbody tr th {\n",
       "        vertical-align: top;\n",
       "    }\n",
       "\n",
       "    .dataframe thead th {\n",
       "        text-align: right;\n",
       "    }\n",
       "</style>\n",
       "<table border=\"1\" class=\"dataframe\">\n",
       "  <thead>\n",
       "    <tr style=\"text-align: right;\">\n",
       "      <th></th>\n",
       "      <th>Count</th>\n",
       "      <th>Hour</th>\n",
       "      <th>Temp</th>\n",
       "      <th>Humidity</th>\n",
       "      <th>WindSpeed</th>\n",
       "      <th>Visibility</th>\n",
       "      <th>DewPointTemp</th>\n",
       "      <th>Solar Radiation</th>\n",
       "      <th>Rainfall</th>\n",
       "      <th>Snowfall</th>\n",
       "    </tr>\n",
       "  </thead>\n",
       "  <tbody>\n",
       "    <tr>\n",
       "      <th>count</th>\n",
       "      <td>8760.000000</td>\n",
       "      <td>8760.000000</td>\n",
       "      <td>8760.000000</td>\n",
       "      <td>8760.000000</td>\n",
       "      <td>8760.000000</td>\n",
       "      <td>8760.000000</td>\n",
       "      <td>8760.000000</td>\n",
       "      <td>8760.000000</td>\n",
       "      <td>8760.000000</td>\n",
       "      <td>8760.000000</td>\n",
       "    </tr>\n",
       "    <tr>\n",
       "      <th>mean</th>\n",
       "      <td>704.602055</td>\n",
       "      <td>11.500000</td>\n",
       "      <td>12.882922</td>\n",
       "      <td>58.226256</td>\n",
       "      <td>1.724909</td>\n",
       "      <td>1436.825799</td>\n",
       "      <td>4.073813</td>\n",
       "      <td>0.569111</td>\n",
       "      <td>0.148687</td>\n",
       "      <td>0.075068</td>\n",
       "    </tr>\n",
       "    <tr>\n",
       "      <th>std</th>\n",
       "      <td>644.997468</td>\n",
       "      <td>6.922582</td>\n",
       "      <td>11.944825</td>\n",
       "      <td>20.362413</td>\n",
       "      <td>1.036300</td>\n",
       "      <td>608.298712</td>\n",
       "      <td>13.060369</td>\n",
       "      <td>0.868746</td>\n",
       "      <td>1.128193</td>\n",
       "      <td>0.436746</td>\n",
       "    </tr>\n",
       "    <tr>\n",
       "      <th>min</th>\n",
       "      <td>0.000000</td>\n",
       "      <td>0.000000</td>\n",
       "      <td>-17.800000</td>\n",
       "      <td>0.000000</td>\n",
       "      <td>0.000000</td>\n",
       "      <td>27.000000</td>\n",
       "      <td>-30.600000</td>\n",
       "      <td>0.000000</td>\n",
       "      <td>0.000000</td>\n",
       "      <td>0.000000</td>\n",
       "    </tr>\n",
       "    <tr>\n",
       "      <th>25%</th>\n",
       "      <td>191.000000</td>\n",
       "      <td>5.750000</td>\n",
       "      <td>3.500000</td>\n",
       "      <td>42.000000</td>\n",
       "      <td>0.900000</td>\n",
       "      <td>940.000000</td>\n",
       "      <td>-4.700000</td>\n",
       "      <td>0.000000</td>\n",
       "      <td>0.000000</td>\n",
       "      <td>0.000000</td>\n",
       "    </tr>\n",
       "    <tr>\n",
       "      <th>50%</th>\n",
       "      <td>504.500000</td>\n",
       "      <td>11.500000</td>\n",
       "      <td>13.700000</td>\n",
       "      <td>57.000000</td>\n",
       "      <td>1.500000</td>\n",
       "      <td>1698.000000</td>\n",
       "      <td>5.100000</td>\n",
       "      <td>0.010000</td>\n",
       "      <td>0.000000</td>\n",
       "      <td>0.000000</td>\n",
       "    </tr>\n",
       "    <tr>\n",
       "      <th>75%</th>\n",
       "      <td>1065.250000</td>\n",
       "      <td>17.250000</td>\n",
       "      <td>22.500000</td>\n",
       "      <td>74.000000</td>\n",
       "      <td>2.300000</td>\n",
       "      <td>2000.000000</td>\n",
       "      <td>14.800000</td>\n",
       "      <td>0.930000</td>\n",
       "      <td>0.000000</td>\n",
       "      <td>0.000000</td>\n",
       "    </tr>\n",
       "    <tr>\n",
       "      <th>max</th>\n",
       "      <td>3556.000000</td>\n",
       "      <td>23.000000</td>\n",
       "      <td>39.400000</td>\n",
       "      <td>98.000000</td>\n",
       "      <td>7.400000</td>\n",
       "      <td>2000.000000</td>\n",
       "      <td>27.200000</td>\n",
       "      <td>3.520000</td>\n",
       "      <td>35.000000</td>\n",
       "      <td>8.800000</td>\n",
       "    </tr>\n",
       "  </tbody>\n",
       "</table>\n",
       "</div>"
      ],
      "text/plain": [
       "             Count         Hour         Temp     Humidity    WindSpeed  \\\n",
       "count  8760.000000  8760.000000  8760.000000  8760.000000  8760.000000   \n",
       "mean    704.602055    11.500000    12.882922    58.226256     1.724909   \n",
       "std     644.997468     6.922582    11.944825    20.362413     1.036300   \n",
       "min       0.000000     0.000000   -17.800000     0.000000     0.000000   \n",
       "25%     191.000000     5.750000     3.500000    42.000000     0.900000   \n",
       "50%     504.500000    11.500000    13.700000    57.000000     1.500000   \n",
       "75%    1065.250000    17.250000    22.500000    74.000000     2.300000   \n",
       "max    3556.000000    23.000000    39.400000    98.000000     7.400000   \n",
       "\n",
       "        Visibility  DewPointTemp  Solar Radiation     Rainfall     Snowfall  \n",
       "count  8760.000000   8760.000000      8760.000000  8760.000000  8760.000000  \n",
       "mean   1436.825799      4.073813         0.569111     0.148687     0.075068  \n",
       "std     608.298712     13.060369         0.868746     1.128193     0.436746  \n",
       "min      27.000000    -30.600000         0.000000     0.000000     0.000000  \n",
       "25%     940.000000     -4.700000         0.000000     0.000000     0.000000  \n",
       "50%    1698.000000      5.100000         0.010000     0.000000     0.000000  \n",
       "75%    2000.000000     14.800000         0.930000     0.000000     0.000000  \n",
       "max    2000.000000     27.200000         3.520000    35.000000     8.800000  "
      ]
     },
     "execution_count": 5,
     "metadata": {},
     "output_type": "execute_result"
    }
   ],
   "source": [
    "data_frame.describe()"
   ]
  },
  {
   "cell_type": "markdown",
   "metadata": {},
   "source": [
    "#### Graphically present the data\n",
    "\n",
    "At this early stage you are just wanting to evaluate the data, the below simple plots lets you look the data in different ways to inform your model design and data wrangling approaches."
   ]
  },
  {
   "cell_type": "code",
   "execution_count": 6,
   "metadata": {},
   "outputs": [
    {
     "data": {
      "text/plain": [
       "<Axes: >"
      ]
     },
     "execution_count": 6,
     "metadata": {},
     "output_type": "execute_result"
    },
    {
     "data": {
      "image/png": "[encoded data removed]",
      "text/plain": [
       "<Figure size 640x480 with 1 Axes>"
      ]
     },
     "metadata": {},
     "output_type": "display_data"
    }
   ],
   "source": [
    "data_frame.plot()"
   ]
  },
  {
   "cell_type": "code",
   "execution_count": 11,
   "metadata": {},
   "outputs": [
    {
     "data": {
      "image/png": "[encoded data removed]",
      "text/plain": [
       "<Figure size 640x480 with 1 Axes>"
      ]
     },
     "metadata": {},
     "output_type": "display_data"
    }
   ],
   "source": [
    "plt.hist(data_frame['Temp'])\n",
    "plt.title(f\"Histogram of {data_frame['Temp'].name}\")\n",
    "plt.ylabel('Count')\n",
    "plt.xlabel(f'{data_frame[\"Temp\"].name}')\n",
    "plt.show()"
   ]
  },
  {
   "cell_type": "code",
   "execution_count": 10,
   "metadata": {},
   "outputs": [
    {
     "data": {
      "image/png": "[encoded data removed]",
      "text/plain": [
       "<Figure size 640x480 with 1 Axes>"
      ]
     },
     "metadata": {},
     "output_type": "display_data"
    }
   ],
   "source": [
    "plt.scatter(data_frame['Count'], data_frame['WindSpeed'])\n",
    "plt.title(f\"Scatter of {data_frame['Count'].name} against {data_frame['WindSpeed'].name}\")\n",
    "plt.ylabel(f'{data_frame['WindSpeed'].name} Data')\n",
    "plt.xlabel(f'{data_frame['Count'].name} Data')\n",
    "plt.show()"
   ]
  },
  {
   "cell_type": "code",
   "execution_count": 14,
   "metadata": {},
   "outputs": [
    {
     "data": {
      "image/png": "[encoded data removed]",
      "text/plain": [
       "<Figure size 640x480 with 1 Axes>"
      ]
     },
     "metadata": {},
     "output_type": "display_data"
    }
   ],
   "source": [
    "x_plot = ['WindSpeed', 'Temp']\n",
    "for col in x_plot:\n",
    "    plt.scatter(data_frame[col], data_frame['Count'], marker='x')\n",
    "plt.title(f\"Scatter of {*x_plot,} against {data_frame['Count'].name}\")\n",
    "plt.ylabel(f'{data_frame['Count'].name} Data')\n",
    "plt.xlabel(f'{*x_plot,} Data')\n",
    "plt.show()"
   ]
  }
 ],
 "metadata": {
  "kernelspec": {
   "display_name": "Python 3",
   "language": "python",
   "name": "python3"
  },
  "language_info": {
   "codemirror_mode": {
    "name": "ipython",
    "version": 3
   },
   "file_extension": ".py",
   "mimetype": "text/x-python",
   "name": "python",
   "nbconvert_exporter": "python",
   "pygments_lexer": "ipython3",
   "version": "3.12.1"
  }
 },
 "nbformat": 4,
 "nbformat_minor": 2
}
